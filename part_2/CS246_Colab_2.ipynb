{
  "nbformat": 4,
  "nbformat_minor": 0,
  "metadata": {
    "colab": {
      "provenance": [],
      "gpuType": "T4",
      "include_colab_link": true
    },
    "kernelspec": {
      "name": "python3",
      "display_name": "Python 3"
    },
    "accelerator": "GPU"
  },
  "cells": [
    {
      "cell_type": "markdown",
      "metadata": {
        "id": "view-in-github",
        "colab_type": "text"
      },
      "source": [
        "<a href=\"https://colab.research.google.com/github/JeyyGit/Data-Mining/blob/main/part_2/CS246_Colab_2.ipynb\" target=\"_parent\"><img src=\"https://colab.research.google.com/assets/colab-badge.svg\" alt=\"Open In Colab\"/></a>"
      ]
    },
    {
      "cell_type": "markdown",
      "metadata": {
        "id": "kPt5q27L5557"
      },
      "source": [
        "# Colab 2\n",
        "## Frequent Pattern Mining in Spark"
      ]
    },
    {
      "cell_type": "code",
      "metadata": {
        "id": "k-qHai2252mI",
        "outputId": "8e34901d-f054-49f2-9014-26231e3d64b7",
        "colab": {
          "base_uri": "https://localhost:8080/"
        }
      },
      "source": [
        "!pip install pyspark\n",
        "!pip install -U -q PyDrive\n",
        "!apt install openjdk-8-jdk-headless -qq\n",
        "import os\n",
        "os.environ[\"JAVA_HOME\"] = \"/usr/lib/jvm/java-8-openjdk-amd64\""
      ],
      "execution_count": 1,
      "outputs": [
        {
          "output_type": "stream",
          "name": "stdout",
          "text": [
            "Collecting pyspark\n",
            "  Downloading pyspark-3.5.0.tar.gz (316.9 MB)\n",
            "\u001b[2K     \u001b[90m━━━━━━━━━━━━━━━━━━━━━━━━━━━━━━━━━━━━━━━━\u001b[0m \u001b[32m316.9/316.9 MB\u001b[0m \u001b[31m2.1 MB/s\u001b[0m eta \u001b[36m0:00:00\u001b[0m\n",
            "\u001b[?25h  Preparing metadata (setup.py) ... \u001b[?25l\u001b[?25hdone\n",
            "Requirement already satisfied: py4j==0.10.9.7 in /usr/local/lib/python3.10/dist-packages (from pyspark) (0.10.9.7)\n",
            "Building wheels for collected packages: pyspark\n",
            "  Building wheel for pyspark (setup.py) ... \u001b[?25l\u001b[?25hdone\n",
            "  Created wheel for pyspark: filename=pyspark-3.5.0-py2.py3-none-any.whl size=317425345 sha256=5e68cc996d6560556686cfc7e6c649527d17124a37032f0b14b8c99fa2267438\n",
            "  Stored in directory: /root/.cache/pip/wheels/41/4e/10/c2cf2467f71c678cfc8a6b9ac9241e5e44a01940da8fbb17fc\n",
            "Successfully built pyspark\n",
            "Installing collected packages: pyspark\n",
            "Successfully installed pyspark-3.5.0\n",
            "The following additional packages will be installed:\n",
            "  libxtst6 openjdk-8-jre-headless\n",
            "Suggested packages:\n",
            "  openjdk-8-demo openjdk-8-source libnss-mdns fonts-dejavu-extra fonts-nanum fonts-ipafont-gothic\n",
            "  fonts-ipafont-mincho fonts-wqy-microhei fonts-wqy-zenhei fonts-indic\n",
            "The following NEW packages will be installed:\n",
            "  libxtst6 openjdk-8-jdk-headless openjdk-8-jre-headless\n",
            "0 upgraded, 3 newly installed, 0 to remove and 32 not upgraded.\n",
            "Need to get 39.7 MB of archives.\n",
            "After this operation, 144 MB of additional disk space will be used.\n",
            "Selecting previously unselected package libxtst6:amd64.\n",
            "(Reading database ... 121749 files and directories currently installed.)\n",
            "Preparing to unpack .../libxtst6_2%3a1.2.3-1build4_amd64.deb ...\n",
            "Unpacking libxtst6:amd64 (2:1.2.3-1build4) ...\n",
            "Selecting previously unselected package openjdk-8-jre-headless:amd64.\n",
            "Preparing to unpack .../openjdk-8-jre-headless_8u392-ga-1~22.04_amd64.deb ...\n",
            "Unpacking openjdk-8-jre-headless:amd64 (8u392-ga-1~22.04) ...\n",
            "Selecting previously unselected package openjdk-8-jdk-headless:amd64.\n",
            "Preparing to unpack .../openjdk-8-jdk-headless_8u392-ga-1~22.04_amd64.deb ...\n",
            "Unpacking openjdk-8-jdk-headless:amd64 (8u392-ga-1~22.04) ...\n",
            "Setting up libxtst6:amd64 (2:1.2.3-1build4) ...\n",
            "Setting up openjdk-8-jre-headless:amd64 (8u392-ga-1~22.04) ...\n",
            "update-alternatives: using /usr/lib/jvm/java-8-openjdk-amd64/jre/bin/orbd to provide /usr/bin/orbd (orbd) in auto mode\n",
            "update-alternatives: using /usr/lib/jvm/java-8-openjdk-amd64/jre/bin/servertool to provide /usr/bin/servertool (servertool) in auto mode\n",
            "update-alternatives: using /usr/lib/jvm/java-8-openjdk-amd64/jre/bin/tnameserv to provide /usr/bin/tnameserv (tnameserv) in auto mode\n",
            "Setting up openjdk-8-jdk-headless:amd64 (8u392-ga-1~22.04) ...\n",
            "update-alternatives: using /usr/lib/jvm/java-8-openjdk-amd64/bin/clhsdb to provide /usr/bin/clhsdb (clhsdb) in auto mode\n",
            "update-alternatives: using /usr/lib/jvm/java-8-openjdk-amd64/bin/extcheck to provide /usr/bin/extcheck (extcheck) in auto mode\n",
            "update-alternatives: using /usr/lib/jvm/java-8-openjdk-amd64/bin/hsdb to provide /usr/bin/hsdb (hsdb) in auto mode\n",
            "update-alternatives: using /usr/lib/jvm/java-8-openjdk-amd64/bin/idlj to provide /usr/bin/idlj (idlj) in auto mode\n",
            "update-alternatives: using /usr/lib/jvm/java-8-openjdk-amd64/bin/javah to provide /usr/bin/javah (javah) in auto mode\n",
            "update-alternatives: using /usr/lib/jvm/java-8-openjdk-amd64/bin/jhat to provide /usr/bin/jhat (jhat) in auto mode\n",
            "update-alternatives: using /usr/lib/jvm/java-8-openjdk-amd64/bin/jsadebugd to provide /usr/bin/jsadebugd (jsadebugd) in auto mode\n",
            "update-alternatives: using /usr/lib/jvm/java-8-openjdk-amd64/bin/native2ascii to provide /usr/bin/native2ascii (native2ascii) in auto mode\n",
            "update-alternatives: using /usr/lib/jvm/java-8-openjdk-amd64/bin/schemagen to provide /usr/bin/schemagen (schemagen) in auto mode\n",
            "update-alternatives: using /usr/lib/jvm/java-8-openjdk-amd64/bin/wsgen to provide /usr/bin/wsgen (wsgen) in auto mode\n",
            "update-alternatives: using /usr/lib/jvm/java-8-openjdk-amd64/bin/wsimport to provide /usr/bin/wsimport (wsimport) in auto mode\n",
            "update-alternatives: using /usr/lib/jvm/java-8-openjdk-amd64/bin/xjc to provide /usr/bin/xjc (xjc) in auto mode\n",
            "Processing triggers for libc-bin (2.35-0ubuntu3.4) ...\n",
            "/sbin/ldconfig.real: /usr/local/lib/libtbbmalloc_proxy.so.2 is not a symbolic link\n",
            "\n",
            "/sbin/ldconfig.real: /usr/local/lib/libtbbmalloc.so.2 is not a symbolic link\n",
            "\n",
            "/sbin/ldconfig.real: /usr/local/lib/libtbbbind.so.3 is not a symbolic link\n",
            "\n",
            "/sbin/ldconfig.real: /usr/local/lib/libtbbbind_2_0.so.3 is not a symbolic link\n",
            "\n",
            "/sbin/ldconfig.real: /usr/local/lib/libtbb.so.12 is not a symbolic link\n",
            "\n",
            "/sbin/ldconfig.real: /usr/local/lib/libtbbbind_2_5.so.3 is not a symbolic link\n",
            "\n"
          ]
        }
      ]
    },
    {
      "cell_type": "code",
      "source": [
        "from google.colab import drive\n",
        "drive.mount('/content/drive')"
      ],
      "metadata": {
        "id": "anafrcL39KZZ",
        "outputId": "05e74230-d234-4126-b801-126f1c175b37",
        "colab": {
          "base_uri": "https://localhost:8080/"
        }
      },
      "execution_count": 2,
      "outputs": [
        {
          "output_type": "stream",
          "name": "stdout",
          "text": [
            "Mounted at /content/drive\n"
          ]
        }
      ]
    },
    {
      "cell_type": "markdown",
      "metadata": {
        "id": "-CJ71AKe91eh"
      },
      "source": [
        "Now we authenticate a Google Drive client to download the file we will be processing in our Spark job.\n",
        "\n",
        "**Make sure to follow the interactive instructions.**"
      ]
    },
    {
      "cell_type": "markdown",
      "metadata": {
        "id": "qwtlO4_m_LbQ"
      },
      "source": [
        "If you executed the cells above, you should be able to see the dataset we will need for this Colab under the \"Files\" tab on the left panel."
      ]
    },
    {
      "cell_type": "code",
      "metadata": {
        "id": "twk-K-jilWK7"
      },
      "source": [
        "import pandas as pd\n",
        "import numpy as np\n",
        "import matplotlib.pyplot as plt\n",
        "%matplotlib inline\n",
        "\n",
        "import pyspark\n",
        "from pyspark.sql import *\n",
        "from pyspark.sql.functions import *\n",
        "from pyspark import SparkContext, SparkConf"
      ],
      "execution_count": 3,
      "outputs": []
    },
    {
      "cell_type": "markdown",
      "metadata": {
        "id": "dr-8fK-1lmY0"
      },
      "source": [
        "Let's initialize the Spark context."
      ]
    },
    {
      "cell_type": "code",
      "metadata": {
        "id": "UOwtm2l7lePt"
      },
      "source": [
        "# create the session\n",
        "conf = SparkConf().set(\"spark.ui.port\", \"4050\")\n",
        "\n",
        "# create the context\n",
        "sc = pyspark.SparkContext(conf=conf)\n",
        "spark = SparkSession.builder.getOrCreate()"
      ],
      "execution_count": 4,
      "outputs": []
    },
    {
      "cell_type": "markdown",
      "metadata": {
        "id": "CRaF2A_j_nC7"
      },
      "source": [
        "### Your task"
      ]
    },
    {
      "cell_type": "markdown",
      "metadata": {
        "id": "ebLNUxP0_8x3"
      },
      "source": [
        "If you run successfully the setup stage, you are ready to work with the **3 Million Instacart Orders** dataset. In case you want to read more about it, check the [official Instacart blog post](https://tech.instacart.com/3-million-instacart-orders-open-sourced-d40d29ead6f2) about it, a concise [schema description](https://gist.github.com/jeremystan/c3b39d947d9b88b3ccff3147dbcf6c6b) of the dataset, and the [download page](https://www.instacart.com/datasets/grocery-shopping-2017).\n",
        "\n",
        "In this Colab, we will be working only with a small training dataset (~131K orders) to perform fast Frequent Pattern Mining with the FP-Growth algorithm."
      ]
    },
    {
      "cell_type": "code",
      "metadata": {
        "id": "xu-e7Ph2_ruG"
      },
      "source": [
        "products = spark.read.csv('/content/drive/MyDrive/Data/products.csv', header=True, inferSchema=True)\n",
        "orders = spark.read.csv('/content/drive/MyDrive/Data/order_products__train.csv', header=True, inferSchema=True)"
      ],
      "execution_count": 5,
      "outputs": []
    },
    {
      "cell_type": "code",
      "metadata": {
        "id": "hhxZZRT9syUO",
        "outputId": "4685da03-d020-43ed-97bb-5963ba1f3749",
        "colab": {
          "base_uri": "https://localhost:8080/"
        }
      },
      "source": [
        "products.printSchema()"
      ],
      "execution_count": 6,
      "outputs": [
        {
          "output_type": "stream",
          "name": "stdout",
          "text": [
            "root\n",
            " |-- product_id: integer (nullable = true)\n",
            " |-- product_name: string (nullable = true)\n",
            " |-- aisle_id: string (nullable = true)\n",
            " |-- department_id: string (nullable = true)\n",
            "\n"
          ]
        }
      ]
    },
    {
      "cell_type": "code",
      "metadata": {
        "id": "8VeRYRz2s1pm",
        "outputId": "3c6ac536-06eb-4fd1-cafe-c2912eae9b4f",
        "colab": {
          "base_uri": "https://localhost:8080/"
        }
      },
      "source": [
        "orders.printSchema()"
      ],
      "execution_count": 7,
      "outputs": [
        {
          "output_type": "stream",
          "name": "stdout",
          "text": [
            "root\n",
            " |-- order_id: integer (nullable = true)\n",
            " |-- product_id: integer (nullable = true)\n",
            " |-- add_to_cart_order: integer (nullable = true)\n",
            " |-- reordered: integer (nullable = true)\n",
            "\n"
          ]
        }
      ]
    },
    {
      "cell_type": "markdown",
      "metadata": {
        "id": "h5muD_Io59CG"
      },
      "source": [
        "Use the Spark Dataframe API to join 'products' and 'orders', so that you will be able to see the product names in each transaction (and not only their ids).  Then, group by the orders by 'order_id' to obtain one row per basket (i.e., set of products purchased together by one customer)."
      ]
    },
    {
      "cell_type": "code",
      "metadata": {
        "id": "zRH4o4p7s7V6",
        "outputId": "a023d36c-b58f-420c-ad33-3c3b3cbbf401",
        "colab": {
          "base_uri": "https://localhost:8080/"
        }
      },
      "source": [
        "# Join 'products' and 'orders' on 'product_id'\n",
        "combined_df = orders.join(products, 'product_id')\n",
        "\n",
        "# Group by 'order_id' to obtain one row per basket\n",
        "grouped_baskets = combined_df.groupBy('order_id').agg(\n",
        "    collect_list(\"product_name\").alias(\"basket_items\")\n",
        ")\n",
        "\n",
        "# Show the first few rows of the resulting DataFrame\n",
        "grouped_baskets.show(truncate=False)"
      ],
      "execution_count": 8,
      "outputs": [
        {
          "output_type": "stream",
          "name": "stdout",
          "text": [
            "+--------+-----------------------------------------------------------------------------------------------------------------------------------------------------------------------------------------------------------------------------------------------------------------------------------------------------------------------------------------------------------------------------------------------------------------------------------------------------------------------------------------------------------------------------------------------------------------------------------------------------------------------------------------------------------------------------------------------------------------------------------------------------------------------------------------------------------------------------------------------------------------------------------------------------------------------------------------------------+\n",
            "|order_id|basket_items                                                                                                                                                                                                                                                                                                                                                                                                                                                                                                                                                                                                                                                                                                                                                                                                                                                                                                                                         |\n",
            "+--------+-----------------------------------------------------------------------------------------------------------------------------------------------------------------------------------------------------------------------------------------------------------------------------------------------------------------------------------------------------------------------------------------------------------------------------------------------------------------------------------------------------------------------------------------------------------------------------------------------------------------------------------------------------------------------------------------------------------------------------------------------------------------------------------------------------------------------------------------------------------------------------------------------------------------------------------------------------+\n",
            "|1       |[Bulgarian Yogurt, Organic 4% Milk Fat Whole Milk Cottage Cheese, Organic Celery Hearts, Cucumber Kirby, Lightly Smoked Sardines in Olive Oil, Bag of Organic Bananas, Organic Hass Avocado, Organic Whole String Cheese]                                                                                                                                                                                                                                                                                                                                                                                                                                                                                                                                                                                                                                                                                                                            |\n",
            "|96      |[Roasted Turkey, Organic Cucumber, Organic Grape Tomatoes, Organic Pomegranate Kernels, Organic Raspberries, Organic Whole Strawberries, Organic Blueberries]                                                                                                                                                                                                                                                                                                                                                                                                                                                                                                                                                                                                                                                                                                                                                                                        |\n",
            "|112     |[Fresh Cauliflower, I Heart Baby Kale, Sea Salt Baked Potato Chips, Marinara Pasta Sauce, Organic Hass Avocado, Organic Lemon, Coconut Water Kefir, Premium Epsom Salt, Umcka Elderberry Intensive Cold + Flu Berry Flavor, Hickory Honey Barbeque Baked Potato Chips, Baked Sea Salt & Vinegar Potato Chips]                                                                                                                                                                                                                                                                                                                                                                                                                                                                                                                                                                                                                                        |\n",
            "|218     |[Natural Artisan Water, Okra, Organic Yellow Peaches, Black Plum, Citrus Mandarins Organic]                                                                                                                                                                                                                                                                                                                                                                                                                                                                                                                                                                                                                                                                                                                                                                                                                                                          |\n",
            "|456     |[Chorizo Pork, Petite Peas, Max Gel Clog Remover, Green Beans, Naturally Hickory Smoked Hometown Original Bacon, Extra Virgin Olive Oil, Mediterranean Fine Sea Salt, Pure Ground, Large Lemon]                                                                                                                                                                                                                                                                                                                                                                                                                                                                                                                                                                                                                                                                                                                                                      |\n",
            "|473     |[Organic Whole Milk with DHA Omega-3, Banana, Unsweetened Original Almond Breeze Almond Milk, Baby Wipes, Basil Pesto, Mushroom Ravioli, Spinaci e Ricotta Ravioli, Multi Grain Waffles]                                                                                                                                                                                                                                                                                                                                                                                                                                                                                                                                                                                                                                                                                                                                                             |\n",
            "|631     |[Organic Strawberries, Uncured Genoa Salami, Organic Baby Carrots, Gluten Free Organic Taco Sliders Corn Tortillas, Organic Chili Powder Blend, Organic Cilantro, Mild Salsa, Garlic, Tamari Gluten Free Soy Sauce, Broccoli Crown, Organic Red Radish, Bunch, Organic Asian Chopped Salad Kit, Dairy Free Coconut Milk Raspberry Yogurt Alternative, Dairy Free Coconut Milk Yogurt Alternative, French Vanilla Coconut Milk Creamer, Vanilla Almond Milk, Organic Italian Parsley Bunch]                                                                                                                                                                                                                                                                                                                                                                                                                                                           |\n",
            "|762     |[Organic Strawberries, Organic Romaine Lettuce, Celery Hearts, Organic Cucumber]                                                                                                                                                                                                                                                                                                                                                                                                                                                                                                                                                                                                                                                                                                                                                                                                                                                                     |\n",
            "|774     |[Ice Cream Variety Pack, Nacho Cheese Sauce, Deli-Sliced Hot Jalapeño Peppers]                                                                                                                                                                                                                                                                                                                                                                                                                                                                                                                                                                                                                                                                                                                                                                                                                                                                       |\n",
            "|844     |[Green Beans, Organic Red Radish, Bunch, Baby Spinach, Organic Shredded Carrots, Granny Smith Apples, Garlic Couscous, Cheese Pizza Snacks]                                                                                                                                                                                                                                                                                                                                                                                                                                                                                                                                                                                                                                                                                                                                                                                                          |\n",
            "|904     |[Cup Noodles Chicken Flavor, Zero Calorie Cola]                                                                                                                                                                                                                                                                                                                                                                                                                                                                                                                                                                                                                                                                                                                                                                                                                                                                                                      |\n",
            "|988     |[Natural Vanilla Ice Cream, Whipped Light Cream, Original, Complete ActionPacs Lemon Burst Dishwasher Detergent, Classic Vanilla Coffee Creamer]                                                                                                                                                                                                                                                                                                                                                                                                                                                                                                                                                                                                                                                                                                                                                                                                     |\n",
            "|1032    |[Clover Org Greek Plain, Electrolyte Enhanced Water, Organic Raspberries, Natural Spring Water, Goodness Grapeness Organic Juice Drink, Small Hass Avocado, Cheese Pizza, Water, Unsweet, Blood Orange, Unsweetened Honeydew Essence Water, Organic Living Butter Lettuce, Pineapple Apple Mint Organic Cold Pressed Juicd, Le Petite Fromage Parmesan & Basil, Organic Small Bunch Celery, Organic Large Extra Fancy Fuji Apple, Organic Bartlett Pear, Apple Honeycrisp Organic, Xylitol Sweetener, Amaaazing Blueberry Apple Juice Blend Drink, Water New Zealand, New Zealand Artesian Water, Wild Berry Sparkling Energy Water, Dolmas, Taco Seasoning, Original Long Grain & Wild Rice Mix, Garlic & Herb Rice Pilaf Mix]                                                                                                                                                                                                                      |\n",
            "|1077    |[Bag of Organic Bananas, Celery Sticks, Sparkling Water, Organic Strawberries]                                                                                                                                                                                                                                                                                                                                                                                                                                                                                                                                                                                                                                                                                                                                                                                                                                                                       |\n",
            "|1119    |[Boneless Skinless Chicken Breast, Large Lemon, Organic Grade A Free Range Large Brown Eggs, Fresh Cauliflower, Broccoli Crown, Shallot]                                                                                                                                                                                                                                                                                                                                                                                                                                                                                                                                                                                                                                                                                                                                                                                                             |\n",
            "|1139    |[Banana, Organic Strawberries, Red Vine Tomato, Organic Bakery Hamburger Buns Wheat - 8 CT, Guacamole, Picnic Potato Salad, Cinnamon Rolls with Icing, Flaky Biscuits, Buttermilk Biscuits]                                                                                                                                                                                                                                                                                                                                                                                                                                                                                                                                                                                                                                                                                                                                                          |\n",
            "|1143    |[Natural Premium Coconut Water, Calming Lavender Body Wash, Unscented Long Lasting Stick Deodorant, Organic Raspberries, Organic Blueberries, Organic Hass Avocado, Organic Butterhead (Boston, Butter, Bibb) Lettuce, Baby Arugula, Large Lemon, Organic Garlic, Organic Red Radish, Bunch, Rustic Baguette, Organic Brussel Sprouts, Organic Capellini Whole Wheat Pasta, Basil Pesto, Spring Water, Water]                                                                                                                                                                                                                                                                                                                                                                                                                                                                                                                                        |\n",
            "|1145    |[Banana, Original French Toast Sticks, Healthy Multi Grain Bread, Harvest Best in 100% Fruit Juice Mandarin Oranges, Little Bites Blueberry Muffin Pouches, Harvest Cheddar Multigrain Chips, Mexican Casserole Bowl, Natural Uncured Turkey Hot Dog, Original Red Raspberry Yogurt, Goldfish Parmesan Baked Snack Crackers, Multi Grain Cheerios Cereal, Roma Tomato, Shredded Mild Cheddar Cheese, Light Mozzarella String Cheese, Eggs, Cheese & Turkey Sausage Breakfast Burrito, Everything Bagel, Danimals Strawberry Explosion & Strikin' Strawberry Kiwi Smoothies, Spaghetti Pasta, Signature Recipes Vodka Sauce Pasta Sauce, Spinach Pizza, Hash Brown Potato Patties, Nacho Cheese & Bean Snacks, 2% Low Fat Cottage Cheese, Original Nooks & Crannies English Muffins, Milano Milk Chocolate Cookies, Strawberries, Strawberry Frozen Greek Yogurt Bars, Instant Whole Grain Brown Rice, Stir Fry Seasoning Mix, Classic Stir-fry Sauce]|\n",
            "|1275    |[Boneless Skinless Chicken Breast, Organic Garnet Sweet Potato (Yam), Small Hass Avocado, Extra Virgin Olive Oil, Balsamic Vinegar Of Modena]                                                                                                                                                                                                                                                                                                                                                                                                                                                                                                                                                                                                                                                                                                                                                                                                        |\n",
            "|1280    |[Lactose Free Half & Half, Organic Half & Half, Vanilla Soy Milk, Organic Whole Milk, French Vanilla Creamer]                                                                                                                                                                                                                                                                                                                                                                                                                                                                                                                                                                                                                                                                                                                                                                                                                                        |\n",
            "+--------+-----------------------------------------------------------------------------------------------------------------------------------------------------------------------------------------------------------------------------------------------------------------------------------------------------------------------------------------------------------------------------------------------------------------------------------------------------------------------------------------------------------------------------------------------------------------------------------------------------------------------------------------------------------------------------------------------------------------------------------------------------------------------------------------------------------------------------------------------------------------------------------------------------------------------------------------------------+\n",
            "only showing top 20 rows\n",
            "\n"
          ]
        }
      ]
    },
    {
      "cell_type": "markdown",
      "metadata": {
        "id": "EfHoTLAg6qnM"
      },
      "source": [
        "In this Colab we will explore [MLlib](https://spark.apache.org/mllib/), Apache Spark's scalable machine learning library. Specifically, you can use its implementation of the [FP-Growth](https://spark.apache.org/docs/latest/ml-frequent-pattern-mining.html#fp-growth) algorithm to perform efficiently Frequent Pattern Mining in Spark.\n",
        "Use the Python example in the documentation, and train a model with\n",
        "\n",
        "```minSupport=0.01``` and ```minConfidence=0.5```\n",
        "\n"
      ]
    },
    {
      "cell_type": "code",
      "metadata": {
        "id": "boWgxXNns089",
        "outputId": "2691c641-c845-4e0c-94e2-84bf52ef646f",
        "colab": {
          "base_uri": "https://localhost:8080/"
        }
      },
      "source": [
        "from pyspark.ml.fpm import FPGrowth\n",
        "\n",
        "fp_growth = FPGrowth(minSupport=0.01, minConfidence=0.5, itemsCol=\"basket_items\")\n",
        "model = fp_growth.fit(grouped_baskets)\n",
        "\n",
        "# Display frequent itemsets\n",
        "frequent_itemsets = model.freqItemsets\n",
        "frequent_itemsets.show()\n",
        "\n",
        "# Display association rules\n",
        "association_rules = model.associationRules\n",
        "association_rules.show()\n",
        "\n",
        "# Make predictions (optional)\n",
        "predictions = model.transform(grouped_baskets)\n",
        "predictions.show()"
      ],
      "execution_count": 9,
      "outputs": [
        {
          "output_type": "stream",
          "name": "stdout",
          "text": [
            "+--------------------+-----+\n",
            "|               items| freq|\n",
            "+--------------------+-----+\n",
            "|      [Green Onions]| 1445|\n",
            "|   [Red Raspberries]| 1493|\n",
            "|    [Organic Banana]| 2332|\n",
            "|  [Jalapeno Peppers]| 1899|\n",
            "|[Organic Large Ex...| 2891|\n",
            "|[Organic Whole St...| 1993|\n",
            "|[Organic Peeled W...| 2460|\n",
            "|             [Limes]| 6033|\n",
            "|[Limes, Large Lemon]| 1595|\n",
            "|     [Limes, Banana]| 1331|\n",
            "|       [Raspberries]| 3279|\n",
            "|      [Hass Avocado]| 1633|\n",
            "|[Organic Broccoli...| 1361|\n",
            "|[Uncured Genoa Sa...| 1788|\n",
            "|      [Spring Water]| 2225|\n",
            "|[Michigan Organic...| 2627|\n",
            "|     [Yellow Onions]| 3762|\n",
            "|[Organic Strawber...|10894|\n",
            "|[Organic Strawber...| 3074|\n",
            "|[Organic Strawber...| 2174|\n",
            "+--------------------+-----+\n",
            "only showing top 20 rows\n",
            "\n",
            "+----------+----------+----------+----+-------+\n",
            "|antecedent|consequent|confidence|lift|support|\n",
            "+----------+----------+----------+----+-------+\n",
            "+----------+----------+----------+----+-------+\n",
            "\n",
            "+--------+--------------------+----------+\n",
            "|order_id|        basket_items|prediction|\n",
            "+--------+--------------------+----------+\n",
            "|       1|[Bulgarian Yogurt...|        []|\n",
            "|      96|[Roasted Turkey, ...|        []|\n",
            "|     112|[Fresh Cauliflowe...|        []|\n",
            "|     218|[Natural Artisan ...|        []|\n",
            "|     456|[Chorizo Pork, Pe...|        []|\n",
            "|     473|[Organic Whole Mi...|        []|\n",
            "|     631|[Organic Strawber...|        []|\n",
            "|     762|[Organic Strawber...|        []|\n",
            "|     774|[Ice Cream Variet...|        []|\n",
            "|     844|[Green Beans, Org...|        []|\n",
            "|     904|[Cup Noodles Chic...|        []|\n",
            "|     988|[Natural Vanilla ...|        []|\n",
            "|    1032|[Clover Org Greek...|        []|\n",
            "|    1077|[Bag of Organic B...|        []|\n",
            "|    1119|[Boneless Skinles...|        []|\n",
            "|    1139|[Banana, Organic ...|        []|\n",
            "|    1143|[Natural Premium ...|        []|\n",
            "|    1145|[Banana, Original...|        []|\n",
            "|    1275|[Boneless Skinles...|        []|\n",
            "|    1280|[Lactose Free Hal...|        []|\n",
            "+--------+--------------------+----------+\n",
            "only showing top 20 rows\n",
            "\n"
          ]
        }
      ]
    },
    {
      "cell_type": "markdown",
      "metadata": {
        "id": "6kpTVdfD8UiO"
      },
      "source": [
        "Compute how many frequent itemsets and association rules were generated by running FP-growth alongside visalizing top frequent itemsets and association rules.\n"
      ]
    },
    {
      "cell_type": "code",
      "metadata": {
        "id": "6KYgQ_URunvA",
        "outputId": "40a000d5-41cd-48b5-b0de-473cbc7ccf75",
        "colab": {
          "base_uri": "https://localhost:8080/"
        }
      },
      "source": [
        "# Get the frequent itemsets\n",
        "frequent_itemsets = model.freqItemsets\n",
        "\n",
        "# Get the association rules\n",
        "association_rules = model.associationRules\n",
        "\n",
        "# Compute the number of frequent itemsets and association rules\n",
        "num_frequent_itemsets = frequent_itemsets.count()\n",
        "num_association_rules = association_rules.count()\n",
        "\n",
        "print(\"Number of Frequent Itemsets:\", num_frequent_itemsets)\n",
        "print(\"Number of Association Rules:\", num_association_rules)\n",
        "\n",
        "# Display the top frequent itemsets\n",
        "print(\"\\nTop Frequent Itemsets:\")\n",
        "frequent_itemsets.sort(\"freq\", ascending=False).show(5, truncate=False)\n",
        "\n",
        "# Display the top association rules\n",
        "print(\"\\nTop Association Rules:\")\n",
        "association_rules.sort(\"confidence\", ascending=False).show(5, truncate=False)\n"
      ],
      "execution_count": 10,
      "outputs": [
        {
          "output_type": "stream",
          "name": "stdout",
          "text": [
            "Number of Frequent Itemsets: 120\n",
            "Number of Association Rules: 0\n",
            "\n",
            "Top Frequent Itemsets:\n",
            "+------------------------+-----+\n",
            "|items                   |freq |\n",
            "+------------------------+-----+\n",
            "|[Banana]                |18726|\n",
            "|[Bag of Organic Bananas]|15480|\n",
            "|[Organic Strawberries]  |10894|\n",
            "|[Organic Baby Spinach]  |9784 |\n",
            "|[Large Lemon]           |8135 |\n",
            "+------------------------+-----+\n",
            "only showing top 5 rows\n",
            "\n",
            "\n",
            "Top Association Rules:\n",
            "+----------+----------+----------+----+-------+\n",
            "|antecedent|consequent|confidence|lift|support|\n",
            "+----------+----------+----------+----+-------+\n",
            "+----------+----------+----------+----+-------+\n",
            "\n"
          ]
        }
      ]
    },
    {
      "cell_type": "markdown",
      "metadata": {
        "id": "qT8Lwm1VAPoN"
      },
      "source": [
        "Now retrain the FP-growth model changing only\n",
        "```minsupport=0.001```\n",
        "and compute how many frequent itemsets and association rules were generated.\n"
      ]
    },
    {
      "cell_type": "code",
      "metadata": {
        "id": "F4LTM9beApYn",
        "outputId": "69d4bf69-4a9a-4ac6-e868-602209647180",
        "colab": {
          "base_uri": "https://localhost:8080/"
        }
      },
      "source": [
        "''' 5 lines of code in total expected but can differ based on your style. for sub-parts of the question, creating different cells of code would be recommended.'''\n",
        "# YOUR CODE HERE\n",
        "# Create and fit the FP-Growth model with minSupport=0.001\n",
        "fp_growth_updated = FPGrowth(minSupport=0.001, minConfidence=0.5, itemsCol=\"basket_items\")\n",
        "model_updated = fp_growth_updated.fit(grouped_baskets)\n",
        "\n",
        "# Get the frequent itemsets\n",
        "frequent_itemsets_updated = model_updated.freqItemsets\n",
        "\n",
        "# Get the association rules\n",
        "association_rules_updated = model_updated.associationRules\n",
        "\n",
        "# Compute the number of frequent itemsets and association rules\n",
        "num_frequent_itemsets_updated = frequent_itemsets_updated.count()\n",
        "num_association_rules_updated = association_rules_updated.count()\n",
        "\n",
        "print(\"Number of Frequent Itemsets (Updated):\", num_frequent_itemsets_updated)\n",
        "print(\"Number of Association Rules (Updated):\", num_association_rules_updated)\n",
        "\n",
        "# Display the top frequent itemsets\n",
        "print(\"\\nTop Frequent Itemsets (Updated):\")\n",
        "frequent_itemsets_updated.sort(\"freq\", ascending=False).show(5, truncate=False)\n",
        "\n",
        "# Display the top association rules\n",
        "print(\"\\nTop Association Rules (Updated):\")\n",
        "association_rules_updated.sort(\"confidence\", ascending=False).show(5, truncate=False)\n"
      ],
      "execution_count": 11,
      "outputs": [
        {
          "output_type": "stream",
          "name": "stdout",
          "text": [
            "Number of Frequent Itemsets (Updated): 4444\n",
            "Number of Association Rules (Updated): 11\n",
            "\n",
            "Top Frequent Itemsets (Updated):\n",
            "+------------------------+-----+\n",
            "|items                   |freq |\n",
            "+------------------------+-----+\n",
            "|[Banana]                |18726|\n",
            "|[Bag of Organic Bananas]|15480|\n",
            "|[Organic Strawberries]  |10894|\n",
            "|[Organic Baby Spinach]  |9784 |\n",
            "|[Large Lemon]           |8135 |\n",
            "+------------------------+-----+\n",
            "only showing top 5 rows\n",
            "\n",
            "\n",
            "Top Association Rules (Updated):\n",
            "+-----------------------------------------------------------------+------------------------+------------------+------------------+---------------------+\n",
            "|antecedent                                                       |consequent              |confidence        |lift              |support              |\n",
            "+-----------------------------------------------------------------+------------------------+------------------+------------------+---------------------+\n",
            "|[Organic Raspberries, Organic Hass Avocado, Organic Strawberries]|[Bag of Organic Bananas]|0.5984251968503937|5.072272070642333 |0.0017376856770495927|\n",
            "|[Organic Cucumber, Organic Hass Avocado, Organic Strawberries]   |[Bag of Organic Bananas]|0.546875          |4.635330870478036 |0.0010669999771357147|\n",
            "|[Organic Kiwi, Organic Hass Avocado]                             |[Bag of Organic Bananas]|0.5459770114942529|4.627719489738336 |0.001448071397541327 |\n",
            "|[Organic Navel Orange, Organic Raspberries]                      |[Bag of Organic Bananas]|0.5412186379928315|4.587387356098284 |0.0011508356896249496|\n",
            "|[Yellow Onions, Strawberries]                                    |[Banana]                |0.5357142857142857|3.7536332219526702|0.0011432142612168373|\n",
            "+-----------------------------------------------------------------+------------------------+------------------+------------------+---------------------+\n",
            "only showing top 5 rows\n",
            "\n"
          ]
        }
      ]
    },
    {
      "cell_type": "markdown",
      "source": [
        "The output you provided is a representation of the top association rules generated by the FP-Growth algorithm. Let's break down the columns in the table:\n",
        "\n",
        "- **antecedent:** The item or set of items that precede or are on the left side of the rule.\n",
        "\n",
        "- **consequent:** The item or set of items that follow or are on the right side of the rule.\n",
        "\n",
        "- **confidence:** The conditional probability of the consequent given the antecedent. It is the ratio of the support of the rule to the support of the antecedent. Confidence measures the strength of the rule.\n",
        "\n",
        "- **lift:** Lift is a measure of how much more likely the consequent is given the antecedent compared to its overall likelihood. It is calculated as the ratio of the confidence of the rule to the support of the consequent.\n",
        "\n",
        "- **support:** The support of a rule is the proportion of transactions in the dataset that contain both the antecedent and the consequent. It indicates the frequency of occurrence of the rule.\n",
        "\n",
        "Now, let's interpret one of the association rules from the output:\n",
        "\n",
        "```plaintext\n",
        "antecedent: [Organic Raspberries, Organic Hass Avocado, Organic Strawberries]\n",
        "consequent: [Bag of Organic Bananas]\n",
        "confidence: 0.5984 (59.84%)\n",
        "lift: 5.0723\n",
        "support: 0.0017 (0.17%)\n",
        "```\n",
        "\n",
        "Interpretation:\n",
        "\n",
        "- **If a customer buys Organic Raspberries, Organic Hass Avocado, and Organic Strawberries (antecedent), they are 59.84% likely to buy Bag of Organic Bananas (consequent).**\n",
        "\n",
        "- **The lift value of 5.0723 suggests that the likelihood of buying Bag of Organic Bananas is about 5 times higher when the antecedent items are present compared to the overall likelihood of buying Bag of Organic Bananas.**\n",
        "\n",
        "- **The support value of 0.0017 indicates that this association rule is present in approximately 0.17% of all transactions.**\n",
        "\n",
        "This rule and the others in the output provide insights into patterns of co-occurrence and associations between different items in the dataset, helping to understand customer behavior and potential recommendations for product placements or promotions. Adjusting the support and confidence thresholds can influence the number and strength of generated association rules."
      ],
      "metadata": {
        "id": "um2vfzqIHIcv"
      }
    },
    {
      "cell_type": "markdown",
      "source": [
        "As a sanity check, for `minSupport=0.01` you should obtain `freq([Limes]) = 6033`"
      ],
      "metadata": {
        "id": "n4TwYSaJFc4m"
      }
    },
    {
      "cell_type": "code",
      "source": [
        "# Create and fit the FP-Growth model with minSupport=0.01\n",
        "fp_growth_sanity_check = FPGrowth(minSupport=0.01, minConfidence=0.5, itemsCol=\"basket_items\")\n",
        "model_sanity_check = fp_growth_sanity_check.fit(grouped_baskets)\n",
        "\n",
        "# Get the frequent itemsets\n",
        "frequent_itemsets_sanity_check = model_sanity_check.freqItemsets\n",
        "\n",
        "# Filter the frequent itemsets for [Limes]\n",
        "limes_frequency = frequent_itemsets_sanity_check.filter(\"array_contains(items, 'Limes')\")\n",
        "\n",
        "# Display the frequency of [Limes]\n",
        "limes_frequency.show()"
      ],
      "metadata": {
        "id": "6TL7blKjFK1n",
        "outputId": "76d90e24-578a-44d2-a8a4-7dde1afd1df9",
        "colab": {
          "base_uri": "https://localhost:8080/"
        }
      },
      "execution_count": 12,
      "outputs": [
        {
          "output_type": "stream",
          "name": "stdout",
          "text": [
            "+--------------------+----+\n",
            "|               items|freq|\n",
            "+--------------------+----+\n",
            "|             [Limes]|6033|\n",
            "|[Limes, Large Lemon]|1595|\n",
            "|     [Limes, Banana]|1331|\n",
            "+--------------------+----+\n",
            "\n"
          ]
        }
      ]
    }
  ]
}